{
 "cells": [
  {
   "cell_type": "markdown",
   "metadata": {},
   "source": [
    "# Speech to text transcritpion \n",
    "In this module you will dynamically convert your speech to text and detect which language does it belong to. For that we need to first import the necessary packages\n"
   ]
  },
  {
   "cell_type": "code",
   "execution_count": 10,
   "metadata": {},
   "outputs": [],
   "source": [
    "import pandas as pd\n",
    "import pyaudio\n",
    "import speech_recognition as sr\n",
    "import langdetect\n",
    "from langdetect import detect\n",
    "import translate\n",
    "from translate import Translator"
   ]
  },
  {
   "cell_type": "markdown",
   "metadata": {},
   "source": [
    "Now lets read the data set that consists of iso639-1 code and its respective language name. For that we need to locally save the dataset from this link (https://pkgstore.datahub.io/core/language-codes/language-codes_csv/data/d63f5134ff40a3e45acc019b0ba156ca/language-codes_csv.csv)"
   ]
  },
  {
   "cell_type": "code",
   "execution_count": 2,
   "metadata": {},
   "outputs": [
    {
     "output_type": "execute_result",
     "data": {
      "text/plain": [
       "  alpha2    English\n",
       "0     aa       Afar\n",
       "1     ab  Abkhazian\n",
       "2     ae    Avestan\n",
       "3     af  Afrikaans\n",
       "4     ak       Akan"
      ],
      "text/html": "<div>\n<style scoped>\n    .dataframe tbody tr th:only-of-type {\n        vertical-align: middle;\n    }\n\n    .dataframe tbody tr th {\n        vertical-align: top;\n    }\n\n    .dataframe thead th {\n        text-align: right;\n    }\n</style>\n<table border=\"1\" class=\"dataframe\">\n  <thead>\n    <tr style=\"text-align: right;\">\n      <th></th>\n      <th>alpha2</th>\n      <th>English</th>\n    </tr>\n  </thead>\n  <tbody>\n    <tr>\n      <th>0</th>\n      <td>aa</td>\n      <td>Afar</td>\n    </tr>\n    <tr>\n      <th>1</th>\n      <td>ab</td>\n      <td>Abkhazian</td>\n    </tr>\n    <tr>\n      <th>2</th>\n      <td>ae</td>\n      <td>Avestan</td>\n    </tr>\n    <tr>\n      <th>3</th>\n      <td>af</td>\n      <td>Afrikaans</td>\n    </tr>\n    <tr>\n      <th>4</th>\n      <td>ak</td>\n      <td>Akan</td>\n    </tr>\n  </tbody>\n</table>\n</div>"
     },
     "metadata": {},
     "execution_count": 2
    }
   ],
   "source": [
    "data = pd.read_csv(\"language-codes_csv.csv\")\n",
    "data.head(5)"
   ]
  },
  {
   "cell_type": "markdown",
   "metadata": {},
   "source": [
    "As we have a look into the dataset, there are two columns viz, 'alpha2' & 'English'. Lets extract these two columns into two lists each for a column"
   ]
  },
  {
   "cell_type": "markdown",
   "metadata": {},
   "source": [
    "The 'code' has the list of iso639-1 codes"
   ]
  },
  {
   "cell_type": "code",
   "execution_count": 4,
   "metadata": {},
   "outputs": [],
   "source": [
    "code = list(data[\"alpha2\"])"
   ]
  },
  {
   "cell_type": "markdown",
   "metadata": {},
   "source": [
    "The 'lang' has the list of corresponding languages."
   ]
  },
  {
   "cell_type": "code",
   "execution_count": 5,
   "metadata": {},
   "outputs": [],
   "source": [
    "lang = list(data[\"English\"])"
   ]
  },
  {
   "source": [
    "We need to input the language prefered for the transciption. So enter the language to be transcribed in the pop up box. Now lets dynamically take the voice input so that it is transcribed into text directly. "
   ],
   "cell_type": "code",
   "metadata": {},
   "execution_count": null,
   "outputs": []
  },
  {
   "cell_type": "code",
   "execution_count": 15,
   "metadata": {},
   "outputs": [
    {
     "output_type": "stream",
     "name": "stdout",
     "text": [
      "Talk\n",
      "Transcribing\n",
      "Text: good afternoon I had lunch today\n",
      "Translation: நல்ல மதியம் நான் இன்று மதிய உணவு சாப்பிட்டேன்\n"
     ]
    }
   ],
   "source": [
    "il = input(\"Enter language to be transcribed: \")\n",
    "for i in lang:\n",
    "    if i == il:\n",
    "        translator= Translator(to_lang=i)\n",
    "        break\n",
    "r = sr.Recognizer()\n",
    "with sr.Microphone() as source:\n",
    "    print(\"Talk\")\n",
    "    audio_text = r.listen(source)\n",
    "    print(\"Transcribing\")\n",
    "    try:\n",
    "        res = r.recognize_google(audio_text)\n",
    "        print(\"Text: \"+res)\n",
    "        translation = translator.translate(res)\n",
    "        print('Translation: '+translation)\n",
    "        \n",
    "            \n",
    "    except:\n",
    "         print(\"Sorry, I did not get that\")"
   ]
  },
  {
   "cell_type": "code",
   "execution_count": null,
   "metadata": {},
   "outputs": [],
   "source": []
  }
 ],
 "metadata": {
  "interpreter": {
   "hash": "5cf87dbaba110e7ece343fc38fee9e35932bd70a2a6cd5fabf6a7f0790418233"
  },
  "kernelspec": {
   "name": "python3",
   "display_name": "Python 3.9.5 64-bit ('PythonSoftwareFoundation.Python.3.9_qbz5n2kfra8p0')"
  },
  "language_info": {
   "codemirror_mode": {
    "name": "ipython",
    "version": 3
   },
   "file_extension": ".py",
   "mimetype": "text/x-python",
   "name": "python",
   "nbconvert_exporter": "python",
   "pygments_lexer": "ipython3",
   "version": "3.9.5"
  }
 },
 "nbformat": 4,
 "nbformat_minor": 2
}
